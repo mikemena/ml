print("hello")


import numpy as np
a = np.zeros(3)


print(f"shape: {a.shape}")


s = np.array([[1,2],[3,4]])


print(f"Shape: {s.shape}")


print(f"dtype: {s.dtype}")



